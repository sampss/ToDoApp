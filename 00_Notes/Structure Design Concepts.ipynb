{
 "cells": [
  {
   "cell_type": "markdown",
   "id": "c2675565",
   "metadata": {},
   "source": [
    "## Current Structure\n",
    "\n",
    "```\n",
    "ToDoApp/\n",
    "├── App.tsx                            ← Entry point rendering TaskListScreen\n",
    "├── android/                           ← Native Android build (auto-managed)\n",
    "├── ios/                               ← (optional) iOS native files\n",
    "├── modules/\n",
    "│   └── tasks/\n",
    "│       ├── AddTask.tsx               ← Input component with date picker\n",
    "│       └── TaskListScreen.tsx        ← Main UI screen (header, task list, add task)\n",
    "├── shared/\n",
    "│   ├── components/\n",
    "│   │   └── TaskCard.tsx              ← Reusable UI component to display a task\n",
    "│   ├── types/\n",
    "│   │   └── Task.ts                   ← Global Task interface (id, title, createdAt, etc.)\n",
    "│   └── utils/\n",
    "│       └── dateUtils.ts              ← Centralized date formatting helper\n",
    "├── database/\n",
    "│   └── TaskDB.ts                     ← SQLite logic for openDB, addTask, getAllTasks\n",
    "├── package.json\n",
    "├── tsconfig.json\n",
    "└── ... (other standard RN files)\n",
    "```"
   ]
  },
  {
   "cell_type": "markdown",
   "id": "ccda768f",
   "metadata": {},
   "source": [
    "## What it looks like if installed inside Manage App\n",
    "\n",
    "```\n",
    "ManageApp/\n",
    "├── App.tsx                           ← Entry point (or navigation logic for app modules)\n",
    "├── apps/                             ← Container for modular apps\n",
    "│   ├── ToDoApp/\n",
    "│   │   ├── index.ts                  ← Entry point or registration for navigation\n",
    "│   │   └── modules/\n",
    "│   │       └── tasks/\n",
    "│   │           ├── TaskListScreen.tsx\n",
    "│   │           ├── AddTask.tsx\n",
    "│   │           └── ...\n",
    "│   ├── ScheduleApp/\n",
    "│   │   ├── index.ts\n",
    "│   │   └── modules/\n",
    "│   │       └── events/\n",
    "│   │           ├── CalendarScreen.tsx\n",
    "│   │           ├── EventForm.tsx\n",
    "│   │           └── ...\n",
    "│\n",
    "├── shared/                           ← All reusable logic across apps\n",
    "│   ├── components/                   ← Shared UI components (e.g., TaskCard, ButtonGroup)\n",
    "│   ├── types/                        ← Shared types like Task, Event, UserProfile\n",
    "│   ├── utils/                        ← Shared functions (e.g., dateUtils.ts)\n",
    "│   ├── constants/                    ← Shared static values, routes, color palettes\n",
    "│   └── database/                     ← Shared DB logic (TaskDB, EventDB, user session)\n",
    "│\n",
    "├── navigation/                       ← Central router if needed for switching apps or modules\n",
    "│   └── AppNavigator.tsx\n",
    "│\n",
    "├── package.json\n",
    "└── tsconfig.json\n",
    "```"
   ]
  }
 ],
 "metadata": {
  "language_info": {
   "name": "python"
  }
 },
 "nbformat": 4,
 "nbformat_minor": 5
}
