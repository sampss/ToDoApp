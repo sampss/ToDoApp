{
 "cells": [
  {
   "cell_type": "markdown",
   "id": "6e77932d",
   "metadata": {},
   "source": [
    "# 🧩 Module: ${ModuleName}\n",
    "\n",
    "## 📄 File: ${FilePath}\n",
    "\n",
    "### 🔍 Description\n",
    "${ShortDescription}\n",
    "\n",
    "---\n",
    "\n",
    "## 🔑 Exports & Functions\n",
    "\n",
    "### `${FunctionOrComponentName}`\n",
    "\n",
    "- **Type**: Function | Component | Hook | Service\n",
    "- **Used in**: `${UsedInScreens}`\n",
    "- **Purpose**: ${PurposeOrGoal}\n",
    "- **Inputs**:\n",
    "  - `${InputName}`: ${InputType} — ${Description}\n",
    "- **Returns**: ${OutputType} — ${WhatItReturns}\n",
    "\n",
    "---\n",
    "\n",
    "## 📦 Interfaces & Types\n",
    "\n",
    "### `${TypeName}`\n",
    "\n",
    "| Field        | Type     | Description                            |\n",
    "|--------------|----------|----------------------------------------|\n",
    "| `id`         | number   | Unique identifier                      |\n",
    "| `createdAt`  | string   | ISO timestamp                          |\n",
    "| `completeBy` | string?  | Optional due date                      |\n",
    "\n",
    "---\n",
    "\n",
    "## 🧰 Depends On\n",
    "\n",
    "- Shared: `${SharedImports}`\n",
    "- Internal: `${ModuleInternalImports}`\n",
    "\n",
    "## 📁 Located In\n",
    "\n",
    "`/apps/${AppName}/modules/${ModuleName}/`\n",
    "\n",
    "---\n",
    "\n",
    "## 🧪 Notes / Dev Tips\n",
    "\n",
    "- ..."
   ]
  }
 ],
 "metadata": {
  "language_info": {
   "name": "python"
  }
 },
 "nbformat": 4,
 "nbformat_minor": 5
}
